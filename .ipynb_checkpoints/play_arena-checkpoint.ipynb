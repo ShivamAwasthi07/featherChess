{
 "cells": [
  {
   "cell_type": "code",
   "execution_count": 8,
   "id": "74977edc-f51d-475c-95ed-c1d00ea5c68e",
   "metadata": {},
   "outputs": [
    {
     "name": "stdout",
     "output_type": "stream",
     "text": [
      "Requirement already satisfied: nbimporter in /Library/Frameworks/Python.framework/Versions/3.10/lib/python3.10/site-packages (0.3.4)\n"
     ]
    }
   ],
   "source": [
    "!pip install nbimporter"
   ]
  },
  {
   "cell_type": "code",
   "execution_count": null,
   "id": "2ed03f08-4af0-492b-ae73-9f5b4118d7e8",
   "metadata": {},
   "outputs": [
    {
     "name": "stdout",
     "output_type": "stream",
     "text": [
      "r n b q k b n r\n",
      "p p p p p p p p\n",
      ". . . . . . . .\n",
      ". . . . . . . .\n",
      ". . . . . . . .\n",
      ". . . . . . . .\n",
      "P P P P P P P P\n",
      "R N B Q K B N R\n",
      "Legal moves: [Move.from_uci('g1h3'), Move.from_uci('g1f3'), Move.from_uci('b1c3'), Move.from_uci('b1a3'), Move.from_uci('h2h3'), Move.from_uci('g2g3'), Move.from_uci('f2f3'), Move.from_uci('e2e3'), Move.from_uci('d2d3'), Move.from_uci('c2c3'), Move.from_uci('b2b3'), Move.from_uci('a2a3'), Move.from_uci('h2h4'), Move.from_uci('g2g4'), Move.from_uci('f2f4'), Move.from_uci('e2e4'), Move.from_uci('d2d4'), Move.from_uci('c2c4'), Move.from_uci('b2b4'), Move.from_uci('a2a4')]\n"
     ]
    }
   ],
   "source": [
    "import chess\n",
    "import random\n",
    "import numpy as np\n",
    "import model_training\n",
    "import nbimporter\n",
    "\n",
    "# Dictionary to represent chess pieces in a 12-dimensional one-hot format\n",
    "chess_dict = {\n",
    "    'p': [1,0,0,0,0,0,0,0,0,0,0,0], 'P': [0,0,0,0,0,0,1,0,0,0,0,0],\n",
    "    'n': [0,1,0,0,0,0,0,0,0,0,0,0], 'N': [0,0,0,0,0,0,0,1,0,0,0,0],\n",
    "    'b': [0,0,1,0,0,0,0,0,0,0,0,0], 'B': [0,0,0,0,0,0,0,0,1,0,0,0],\n",
    "    'r': [0,0,0,1,0,0,0,0,0,0,0,0], 'R': [0,0,0,0,0,0,0,0,0,1,0,0],\n",
    "    'q': [0,0,0,0,1,0,0,0,0,0,0,0], 'Q': [0,0,0,0,0,0,0,0,0,0,1,0],\n",
    "    'k': [0,0,0,0,0,1,0,0,0,0,0,0], 'K': [0,0,0,0,0,0,0,0,0,0,0,1],\n",
    "    '.': [0,0,0,0,0,0,0,0,0,0,0,0],\n",
    "}\n",
    "\n",
    "def make_matrix(board):\n",
    "    pgn = board.epd().split(\" \", 1)[0]\n",
    "    rows = pgn.split(\"/\")\n",
    "    matrix = []\n",
    "\n",
    "    for row in rows:\n",
    "        expanded_row = []\n",
    "        for char in row:\n",
    "            if char.isdigit():\n",
    "                expanded_row.extend(['.'] * int(char))\n",
    "            else:\n",
    "                expanded_row.append(char)\n",
    "        matrix.append(expanded_row)\n",
    "    \n",
    "    return matrix\n",
    "\n",
    "def translate(matrix, chess_dict):\n",
    "    translated = []\n",
    "    for row in matrix:\n",
    "        translated_row = [chess_dict[piece] for piece in row]\n",
    "        translated.append(translated_row)\n",
    "    return translated\n",
    "\n",
    "def calculate_move(depth, board, epochs, model, minimum=0, maximum=1):\n",
    "    legal_moves = list(board.legal_moves)\n",
    "    scores = [0] * len(legal_moves)\n",
    "\n",
    "    for epoch in range(epochs):\n",
    "        for i, move in enumerate(legal_moves):\n",
    "            try:\n",
    "                temp_board = board.copy()\n",
    "                temp_board.push(move)\n",
    "                \n",
    "                for _ in range(depth):\n",
    "                    inner_legal_moves = list(temp_board.legal_moves)\n",
    "                    if not inner_legal_moves:\n",
    "                        scores[i] *= 1000  # Penalize dead ends\n",
    "                        break\n",
    "                    random_move = random.choice(inner_legal_moves)\n",
    "                    temp_board.push(random_move)\n",
    "                \n",
    "                matrix = make_matrix(temp_board)\n",
    "                translated = np.array(translate(matrix, chess_dict))\n",
    "                prediction = model.predict(translated.reshape(1, 8, 8, 12))\n",
    "                scores[i] += prediction * (maximum - minimum) + minimum\n",
    "\n",
    "            except Exception as e:\n",
    "                print(f\"Error with move {move}: {e}\")\n",
    "                continue\n",
    "\n",
    "        print(f\"Epoch {epoch + 1}/{epochs}\")\n",
    "    \n",
    "    best_move_index = np.argmax(scores)\n",
    "    return legal_moves[best_move_index]\n",
    "\n",
    "def play_game(board, model, minimum=0, maximum=1):\n",
    "    while True:\n",
    "        print(board)\n",
    "        print(\"Legal moves:\", list(board.legal_moves))\n",
    "        \n",
    "        user_move = input(\"Which move do you want to play? \")\n",
    "        try:\n",
    "            board.push_san(user_move)\n",
    "        except:\n",
    "            print(\"Invalid move format or illegal move. Try again.\")\n",
    "            continue\n",
    "\n",
    "        print(\"Board after your move:\")\n",
    "        print(board)\n",
    "\n",
    "        # Show model prediction for your move\n",
    "        matrix = make_matrix(board)\n",
    "        translated = np.array(translate(matrix, chess_dict))\n",
    "        prediction = model.predict(translated.reshape(1, 8, 8, 12))\n",
    "        print(\"Model prediction (after your move):\", prediction)\n",
    "\n",
    "        # Model makes its move\n",
    "        ai_move = calculate_move(10, board, 7, model, minimum, maximum)\n",
    "        print(\"AI plays:\", ai_move)\n",
    "        board.push(ai_move)\n",
    "\n",
    "# Example usage:\n",
    "\n",
    "model = model_training.load_model_from_files()\n",
    "board = chess.Board()\n",
    "play_game(board, model)"
   ]
  },
  {
   "cell_type": "code",
   "execution_count": null,
   "id": "f5f0cc0c-a89a-4029-9fdf-094ddac3d182",
   "metadata": {},
   "outputs": [],
   "source": []
  }
 ],
 "metadata": {
  "kernelspec": {
   "display_name": "Python 3 (ipykernel)",
   "language": "python",
   "name": "python3"
  },
  "language_info": {
   "codemirror_mode": {
    "name": "ipython",
    "version": 3
   },
   "file_extension": ".py",
   "mimetype": "text/x-python",
   "name": "python",
   "nbconvert_exporter": "python",
   "pygments_lexer": "ipython3",
   "version": "3.10.8"
  }
 },
 "nbformat": 4,
 "nbformat_minor": 5
}
