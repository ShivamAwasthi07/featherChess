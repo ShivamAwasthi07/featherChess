{
 "cells": [
  {
   "cell_type": "code",
   "execution_count": 2,
   "id": "4869b9a9-8eed-46a5-af1b-53f3a9608407",
   "metadata": {},
   "outputs": [
    {
     "name": "stdout",
     "output_type": "stream",
     "text": [
      "Requirement already satisfied: stockfish in /Library/Frameworks/Python.framework/Versions/3.10/lib/python3.10/site-packages (3.28.0)\n",
      "Note: you may need to restart the kernel to use updated packages.\n"
     ]
    }
   ],
   "source": [
    "pip install stockfish"
   ]
  },
  {
   "cell_type": "code",
   "execution_count": null,
   "id": "fd2c0cca-01e3-42c0-b272-c4a093b24bea",
   "metadata": {},
   "outputs": [],
   "source": [
    "from stockfish import Stockfish\n",
    "\n",
    "# Replace with your path to the stockfish binary\n",
    "stockfish = Stockfish(path=\"/Users/awasthi/Desktop/stockfish/stockfish-macos-m1-apple-silicon\")\n",
    "\n",
    "# Set the position using a FEN string\n",
    "sample_fens = [\n",
    "    # Initial position\n",
    "    \"rnbqkbnr/pppppppp/8/8/8/8/PPPPPPPP/RNBQKBNR w KQkq - 0 1\",\n",
    "    \n",
    "    # Midgame with open center\n",
    "    \"r1bq1rk1/ppp2ppp/2n2n2/3pp3/4P3/2P2N2/PP1N1PPP/R1BQ1RK1 w - - 0 8\",\n",
    "\n",
    "    # Complex tactical position\n",
    "    \"r4rk1/pp1n1ppp/2pbpn2/q7/3P4/2N1BN2/PPQ2PPP/2RR2K1 w - - 0 10\",\n",
    "\n",
    "    # Mating position (back rank)\n",
    "    \"6k1/5ppp/8/8/8/8/5PPP/R5K1 w - - 0 1\",\n",
    "\n",
    "    # Stalemate\n",
    "    \"7k/5Q2/6K1/8/8/8/8/8 b - - 0 1\",\n",
    "\n",
    "    # Endgame position\n",
    "    \"8/8/8/3k4/8/3K4/8/8 w - - 0 1\",\n",
    "\n",
    "    # Rook and pawn vs rook (Philidor position)\n",
    "    \"8/8/8/8/8/1k6/6p1/2R2RK1 b - - 0 1\"\n",
    "]\n",
    "\n",
    "for fen in sample_fens:\n",
    "    stockfish.set_fen_position(fen)\n",
    "    evaluation = stockfish.get_evaluation()\n",
    "    print(fen)\n",
    "    print(evaluation)\n",
    "\n",
    "# Get evaluation"
   ]
  },
  {
   "cell_type": "code",
   "execution_count": null,
   "id": "6dd9879c-60cd-4bdb-afd1-2bb5e467446f",
   "metadata": {},
   "outputs": [],
   "source": []
  }
 ],
 "metadata": {
  "kernelspec": {
   "display_name": "Python 3 (ipykernel)",
   "language": "python",
   "name": "python3"
  },
  "language_info": {
   "codemirror_mode": {
    "name": "ipython",
    "version": 3
   },
   "file_extension": ".py",
   "mimetype": "text/x-python",
   "name": "python",
   "nbconvert_exporter": "python",
   "pygments_lexer": "ipython3",
   "version": "3.10.8"
  }
 },
 "nbformat": 4,
 "nbformat_minor": 5
}
