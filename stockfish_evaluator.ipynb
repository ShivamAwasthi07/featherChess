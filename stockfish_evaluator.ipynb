{
 "cells": [
  {
   "cell_type": "code",
   "execution_count": 2,
   "id": "4869b9a9-8eed-46a5-af1b-53f3a9608407",
   "metadata": {},
   "outputs": [
    {
     "name": "stdout",
     "output_type": "stream",
     "text": [
      "Requirement already satisfied: stockfish in /Library/Frameworks/Python.framework/Versions/3.10/lib/python3.10/site-packages (3.28.0)\n",
      "Note: you may need to restart the kernel to use updated packages.\n"
     ]
    }
   ],
   "source": [
    "pip install stockfish"
   ]
  },
  {
   "cell_type": "code",
   "execution_count": null,
   "id": "fd2c0cca-01e3-42c0-b272-c4a093b24bea",
   "metadata": {},
   "outputs": [],
   "source": [
    "from stockfish import Stockfish\n",
    "import pandas as pd\n",
    "import chess\n",
    "import chess.pgn\n",
    "import io\n",
    "import csv\n",
    "stockfish = Stockfish(path=\"/Users/awasthi/Desktop/stockfish/stockfish-macos-m1-apple-silicon\")\n",
    "\n",
    "def get_evaluation(fen):\n",
    "    try:\n",
    "        stockfish.set_fen_position(fen)\n",
    "        evaluation = stockfish.get_evaluation()\n",
    "        if evaluation is None:\n",
    "            raise ValueError(\"Stockfish returned None for the evaluation.\")\n",
    "        return evaluation\n",
    "    except Exception as e:\n",
    "        print(f\"Error evaluating FEN {fen}: {e}\")\n",
    "        return None\n",
    "\n",
    "def pgn_to_fens(pgn_text):\n",
    "    \"\"\"Convert a PGN game string to a list of FEN positions\"\"\"\n",
    "    game = chess.pgn.read_game(io.StringIO(pgn_text))\n",
    "    if game is None:\n",
    "        return []\n",
    "    \n",
    "    board = game.board()\n",
    "    fens = [board.fen()]\n",
    "    \n",
    "    for move in game.mainline_moves():\n",
    "        board.push(move)\n",
    "        fens.append(board.fen())\n",
    "    \n",
    "    return fens\n",
    "\n",
    "def process_games_csv(input_file, output_file):\n",
    "    try:\n",
    "        df = pd.read_csv(input_file)\n",
    "        if 'moves' not in df.columns:\n",
    "            raise ValueError(\"CSV must contain a 'moves' column with PGN format games\")\n",
    "        \n",
    "        with open(output_file, 'w', newline='') as f_out:\n",
    "            writer = csv.writer(f_out)\n",
    "            writer.writerow(['FEN', 'Evaluation'])\n",
    "            \n",
    "            for i, row in df.iterrows():\n",
    "                pgn_text = row['moves']\n",
    "                fens = pgn_to_fens(pgn_text)\n",
    "                \n",
    "                print(f\"Processing game {i+1}/{len(df)}: {len(fens)} positions\")\n",
    "                \n",
    "                for fen in fens:\n",
    "                    evaluation = get_evaluation(fen)\n",
    "                    if evaluation:\n",
    "                        writer.writerow([fen, evaluation])\n",
    "                    \n",
    "        print(f\"Completed! Results saved to {output_file}\")\n",
    "        \n",
    "    except Exception as e:\n",
    "        print(f\"Error processing CSV: {e}\")\n",
    "\n",
    "input_csv = \"chess_games.csv\"\n",
    "output_csv = \"yooooo.csv\"\n",
    "    \n",
    "process_games_csv(input_csv, output_csv)"
   ]
  },
  {
   "cell_type": "code",
   "execution_count": null,
   "id": "6dd9879c-60cd-4bdb-afd1-2bb5e467446f",
   "metadata": {},
   "outputs": [],
   "source": []
  }
 ],
 "metadata": {
  "kernelspec": {
   "display_name": "Python 3 (ipykernel)",
   "language": "python",
   "name": "python3"
  },
  "language_info": {
   "codemirror_mode": {
    "name": "ipython",
    "version": 3
   },
   "file_extension": ".py",
   "mimetype": "text/x-python",
   "name": "python",
   "nbconvert_exporter": "python",
   "pygments_lexer": "ipython3",
   "version": "3.10.8"
  }
 },
 "nbformat": 4,
 "nbformat_minor": 5
}
