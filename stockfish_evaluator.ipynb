{
 "cells": [
  {
   "cell_type": "code",
   "execution_count": 2,
   "id": "4869b9a9-8eed-46a5-af1b-53f3a9608407",
   "metadata": {},
   "outputs": [
    {
     "name": "stdout",
     "output_type": "stream",
     "text": [
      "Requirement already satisfied: stockfish in /Library/Frameworks/Python.framework/Versions/3.10/lib/python3.10/site-packages (3.28.0)\n",
      "Note: you may need to restart the kernel to use updated packages.\n"
     ]
    }
   ],
   "source": [
    "pip install stockfish"
   ]
  },
  {
   "cell_type": "code",
   "execution_count": 1,
   "id": "fd2c0cca-01e3-42c0-b272-c4a093b24bea",
   "metadata": {},
   "outputs": [
    {
     "name": "stdout",
     "output_type": "stream",
     "text": [
      "Processing game 1/10057: 17 positions\n",
      "Processing game 2/10057: 6 positions\n",
      "Processing game 3/10057: 10 positions\n",
      "Processing game 4/10057: 67 positions\n",
      "Processing game 5/10057: 39 positions\n",
      "Processing game 6/10057: 61 positions\n",
      "Processing game 7/10057: 32 positions\n"
     ]
    },
    {
     "ename": "KeyboardInterrupt",
     "evalue": "",
     "output_type": "error",
     "traceback": [
      "\u001b[0;31m---------------------------------------------------------------------------\u001b[0m",
      "\u001b[0;31mKeyboardInterrupt\u001b[0m                         Traceback (most recent call last)",
      "Cell \u001b[0;32mIn[1], line 65\u001b[0m\n\u001b[1;32m     62\u001b[0m input_csv \u001b[38;5;241m=\u001b[39m \u001b[38;5;124m\"\u001b[39m\u001b[38;5;124mchess_games.csv\u001b[39m\u001b[38;5;124m\"\u001b[39m\n\u001b[1;32m     63\u001b[0m output_csv \u001b[38;5;241m=\u001b[39m \u001b[38;5;124m\"\u001b[39m\u001b[38;5;124myooooo.csv\u001b[39m\u001b[38;5;124m\"\u001b[39m\n\u001b[0;32m---> 65\u001b[0m \u001b[43mprocess_games_csv\u001b[49m\u001b[43m(\u001b[49m\u001b[43minput_csv\u001b[49m\u001b[43m,\u001b[49m\u001b[43m \u001b[49m\u001b[43moutput_csv\u001b[49m\u001b[43m)\u001b[49m\n",
      "Cell \u001b[0;32mIn[1], line 52\u001b[0m, in \u001b[0;36mprocess_games_csv\u001b[0;34m(input_file, output_file)\u001b[0m\n\u001b[1;32m     49\u001b[0m \u001b[38;5;28mprint\u001b[39m(\u001b[38;5;124mf\u001b[39m\u001b[38;5;124m\"\u001b[39m\u001b[38;5;124mProcessing game \u001b[39m\u001b[38;5;132;01m{\u001b[39;00mi\u001b[38;5;241m+\u001b[39m\u001b[38;5;241m1\u001b[39m\u001b[38;5;132;01m}\u001b[39;00m\u001b[38;5;124m/\u001b[39m\u001b[38;5;132;01m{\u001b[39;00m\u001b[38;5;28mlen\u001b[39m(df)\u001b[38;5;132;01m}\u001b[39;00m\u001b[38;5;124m: \u001b[39m\u001b[38;5;132;01m{\u001b[39;00m\u001b[38;5;28mlen\u001b[39m(fens)\u001b[38;5;132;01m}\u001b[39;00m\u001b[38;5;124m positions\u001b[39m\u001b[38;5;124m\"\u001b[39m)\n\u001b[1;32m     51\u001b[0m \u001b[38;5;28;01mfor\u001b[39;00m fen \u001b[38;5;129;01min\u001b[39;00m fens:\n\u001b[0;32m---> 52\u001b[0m     evaluation \u001b[38;5;241m=\u001b[39m \u001b[43mget_evaluation\u001b[49m\u001b[43m(\u001b[49m\u001b[43mfen\u001b[49m\u001b[43m)\u001b[49m\n\u001b[1;32m     53\u001b[0m     eval_value \u001b[38;5;241m=\u001b[39m evaluation[\u001b[38;5;124m'\u001b[39m\u001b[38;5;124mvalue\u001b[39m\u001b[38;5;124m'\u001b[39m]\n\u001b[1;32m     54\u001b[0m     \u001b[38;5;28;01mif\u001b[39;00m evaluation:\n",
      "Cell \u001b[0;32mIn[1], line 12\u001b[0m, in \u001b[0;36mget_evaluation\u001b[0;34m(fen)\u001b[0m\n\u001b[1;32m     10\u001b[0m \u001b[38;5;28;01mtry\u001b[39;00m:\n\u001b[1;32m     11\u001b[0m     stockfish\u001b[38;5;241m.\u001b[39mset_fen_position(fen)\n\u001b[0;32m---> 12\u001b[0m     evaluation \u001b[38;5;241m=\u001b[39m \u001b[43mstockfish\u001b[49m\u001b[38;5;241;43m.\u001b[39;49m\u001b[43mget_evaluation\u001b[49m\u001b[43m(\u001b[49m\u001b[43m)\u001b[49m\n\u001b[1;32m     13\u001b[0m     \u001b[38;5;28;01mif\u001b[39;00m evaluation \u001b[38;5;129;01mis\u001b[39;00m \u001b[38;5;28;01mNone\u001b[39;00m:\n\u001b[1;32m     14\u001b[0m         \u001b[38;5;28;01mraise\u001b[39;00m \u001b[38;5;167;01mValueError\u001b[39;00m(\u001b[38;5;124m\"\u001b[39m\u001b[38;5;124mStockfish returned None for the evaluation.\u001b[39m\u001b[38;5;124m\"\u001b[39m)\n",
      "File \u001b[0;32m/Library/Frameworks/Python.framework/Versions/3.10/lib/python3.10/site-packages/stockfish/models.py:505\u001b[0m, in \u001b[0;36mStockfish.get_evaluation\u001b[0;34m(self)\u001b[0m\n\u001b[1;32m    503\u001b[0m \u001b[38;5;28mself\u001b[39m\u001b[38;5;241m.\u001b[39m_go()\n\u001b[1;32m    504\u001b[0m \u001b[38;5;28;01mwhile\u001b[39;00m \u001b[38;5;28;01mTrue\u001b[39;00m:\n\u001b[0;32m--> 505\u001b[0m     text \u001b[38;5;241m=\u001b[39m \u001b[38;5;28;43mself\u001b[39;49m\u001b[38;5;241;43m.\u001b[39;49m\u001b[43m_read_line\u001b[49m\u001b[43m(\u001b[49m\u001b[43m)\u001b[49m\n\u001b[1;32m    506\u001b[0m     splitted_text \u001b[38;5;241m=\u001b[39m text\u001b[38;5;241m.\u001b[39msplit(\u001b[38;5;124m\"\u001b[39m\u001b[38;5;124m \u001b[39m\u001b[38;5;124m\"\u001b[39m)\n\u001b[1;32m    507\u001b[0m     \u001b[38;5;28;01mif\u001b[39;00m splitted_text[\u001b[38;5;241m0\u001b[39m] \u001b[38;5;241m==\u001b[39m \u001b[38;5;124m\"\u001b[39m\u001b[38;5;124minfo\u001b[39m\u001b[38;5;124m\"\u001b[39m:\n",
      "File \u001b[0;32m/Library/Frameworks/Python.framework/Versions/3.10/lib/python3.10/site-packages/stockfish/models.py:161\u001b[0m, in \u001b[0;36mStockfish._read_line\u001b[0;34m(self)\u001b[0m\n\u001b[1;32m    159\u001b[0m \u001b[38;5;28;01mif\u001b[39;00m \u001b[38;5;28mself\u001b[39m\u001b[38;5;241m.\u001b[39m_stockfish\u001b[38;5;241m.\u001b[39mpoll() \u001b[38;5;129;01mis\u001b[39;00m \u001b[38;5;129;01mnot\u001b[39;00m \u001b[38;5;28;01mNone\u001b[39;00m:\n\u001b[1;32m    160\u001b[0m     \u001b[38;5;28;01mraise\u001b[39;00m StockfishException(\u001b[38;5;124m\"\u001b[39m\u001b[38;5;124mThe Stockfish process has crashed\u001b[39m\u001b[38;5;124m\"\u001b[39m)\n\u001b[0;32m--> 161\u001b[0m \u001b[38;5;28;01mreturn\u001b[39;00m \u001b[38;5;28;43mself\u001b[39;49m\u001b[38;5;241;43m.\u001b[39;49m\u001b[43m_stockfish\u001b[49m\u001b[38;5;241;43m.\u001b[39;49m\u001b[43mstdout\u001b[49m\u001b[38;5;241;43m.\u001b[39;49m\u001b[43mreadline\u001b[49m\u001b[43m(\u001b[49m\u001b[43m)\u001b[49m\u001b[38;5;241m.\u001b[39mstrip()\n",
      "\u001b[0;31mKeyboardInterrupt\u001b[0m: "
     ]
    }
   ],
   "source": [
    "from stockfish import Stockfish\n",
    "import pandas as pd\n",
    "import chess\n",
    "import chess.pgn\n",
    "import io\n",
    "import csv\n",
    "stockfish = Stockfish(path=\"/Users/awasthi/Desktop/stockfish/stockfish-macos-m1-apple-silicon\")\n",
    "\n",
    "def get_evaluation(fen):\n",
    "    try:\n",
    "        stockfish.set_fen_position(fen)\n",
    "        evaluation = stockfish.get_evaluation()\n",
    "        if evaluation is None:\n",
    "            raise ValueError(\"Stockfish returned None for the evaluation.\")\n",
    "        return evaluation\n",
    "    except Exception as e:\n",
    "        print(f\"Error evaluating FEN {fen}: {e}\")\n",
    "        return None\n",
    "\n",
    "def pgn_to_fens(pgn_text):\n",
    "    \"\"\"Convert a PGN game string to a list of FEN positions\"\"\"\n",
    "    game = chess.pgn.read_game(io.StringIO(pgn_text))\n",
    "    if game is None:\n",
    "        return []\n",
    "    \n",
    "    board = game.board()\n",
    "    fens = [board.fen()]\n",
    "    \n",
    "    for move in game.mainline_moves():\n",
    "        board.push(move)\n",
    "        fens.append(board.fen())\n",
    "    \n",
    "    return fens\n",
    "\n",
    "def process_games_csv(input_file, output_file):\n",
    "    try:\n",
    "        df = pd.read_csv(input_file)\n",
    "        if 'moves' not in df.columns:\n",
    "            raise ValueError(\"CSV must contain a 'moves' column with PGN format games\")\n",
    "        \n",
    "        with open(output_file, 'w', newline='') as f_out:\n",
    "            writer = csv.writer(f_out)\n",
    "            writer.writerow(['FEN', 'Evaluation'])\n",
    "            \n",
    "            for i, row in df.iterrows():\n",
    "                pgn_text = row['moves']\n",
    "                fens = pgn_to_fens(pgn_text)\n",
    "                \n",
    "                print(f\"Processing game {i+1}/{len(df)}: {len(fens)} positions\")\n",
    "                \n",
    "                for fen in fens:\n",
    "                    evaluation = get_evaluation(fen)\n",
    "                    eval_value = evaluation['value']\n",
    "                    if evaluation:\n",
    "                        writer.writerow([fen, eval_value])\n",
    "                    \n",
    "        print(f\"Completed! Results saved to {output_file}\")\n",
    "        \n",
    "    except Exception as e:\n",
    "        print(f\"Error processing CSV: {e}\")\n",
    "\n",
    "input_csv = \"chess_games.csv\"\n",
    "output_csv = \"new_games_fen.csv\"\n",
    "    \n",
    "process_games_csv(input_csv, output_csv)"
   ]
  },
  {
   "cell_type": "code",
   "execution_count": null,
   "id": "6dd9879c-60cd-4bdb-afd1-2bb5e467446f",
   "metadata": {},
   "outputs": [],
   "source": []
  }
 ],
 "metadata": {
  "kernelspec": {
   "display_name": "Python 3 (ipykernel)",
   "language": "python",
   "name": "python3"
  },
  "language_info": {
   "codemirror_mode": {
    "name": "ipython",
    "version": 3
   },
   "file_extension": ".py",
   "mimetype": "text/x-python",
   "name": "python",
   "nbconvert_exporter": "python",
   "pygments_lexer": "ipython3",
   "version": "3.10.8"
  }
 },
 "nbformat": 4,
 "nbformat_minor": 5
}
